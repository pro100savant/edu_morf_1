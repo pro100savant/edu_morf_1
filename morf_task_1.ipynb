{
 "cells": [
  {
   "cell_type": "code",
   "execution_count": null,
   "id": "dfb83aef",
   "metadata": {},
   "outputs": [],
   "source": [
    "import pandas as pd"
   ]
  },
  {
   "cell_type": "markdown",
   "id": "ff75bdc8",
   "metadata": {},
   "source": [
    "## Задание №1\n",
    "Загрузить файл text.txt c заданиями, руками привести существительные в скобках в форму родительного падежа. <br>\n",
    "Сохранить результаты в файл задание1.txt в формате:  <br> \n",
    "Купить килограмм - {слово в родительном падеже}"
   ]
  },
  {
   "cell_type": "code",
   "execution_count": null,
   "id": "a893fa4e",
   "metadata": {},
   "outputs": [],
   "source": [
    "with open(r'./data/text.txt', encoding=\"utf-8\") as f:\n",
    "    lines = f.readlines()"
   ]
  },
  {
   "cell_type": "code",
   "execution_count": null,
   "id": "60afc170",
   "metadata": {},
   "outputs": [],
   "source": [
    "list_text = lines[0].split('),')"
   ]
  },
  {
   "cell_type": "code",
   "execution_count": null,
   "id": "ff12de71",
   "metadata": {},
   "outputs": [],
   "source": [
    "list_task=[]\n",
    "for el in list_text:\n",
    "    list_el = []\n",
    "    temp_el = el.split('(')\n",
    "    list_el.append(temp_el[0])\n",
    "    for word_task in temp_el[1].split(','): list_el.append(word_task.replace(' ',''))\n",
    "    list_task.append(list_el)\n",
    "    "
   ]
  },
  {
   "cell_type": "code",
   "execution_count": null,
   "id": "b595b71e",
   "metadata": {},
   "outputs": [],
   "source": [
    "assert len(list_task) == 32"
   ]
  },
  {
   "cell_type": "code",
   "execution_count": null,
   "id": "345b3590",
   "metadata": {},
   "outputs": [],
   "source": [
    "#Для удосбтва можно воспользоваться кодом ниже, данный код для одного задания\n",
    "unsver_list = []\n",
    "contexst = list_task[0][0]\n",
    "for word in list_task[0][1:]:\n",
    "    \n",
    "    unsver = input(f'Форма слова - {word} в родительном падеже в контексте {contexst}')\n",
    "    unsver_list.append([contexst + unsver])\n"
   ]
  },
  {
   "cell_type": "code",
   "execution_count": null,
   "id": "cace1ec1",
   "metadata": {},
   "outputs": [],
   "source": []
  },
  {
   "cell_type": "code",
   "execution_count": null,
   "id": "078ff39d",
   "metadata": {},
   "outputs": [],
   "source": [
    "#all_unsver_list\n",
    "with open(\"задание1.txt\", \"w\") as output:\n",
    "    output.write(str(all_unsver_list))"
   ]
  },
  {
   "cell_type": "markdown",
   "id": "746bd85f",
   "metadata": {},
   "source": [
    "## Задание №2\n",
    "Воспользоваться уже сформированным list_task. Воспользуйтесь словарём сформированным из Викисловаря повторите задание №1 <br>\n",
    "Для слов которых нет в словаре, попробуйте создать сами конструкцию из if-ов которые переведут слово в родительный падаж.<br>\n",
    "Для более точного подхода можно воспользоваться https://ru.wiktionary.org/wiki/Викисловарь:Шаблоны_словоизменений/Существительные <br>\n",
    "\n",
    "Сохраните результаты в файл задание2.txt в формате:  <br> \n",
    "Купить килограмм - {слово в родительном падеже}"
   ]
  },
  {
   "cell_type": "code",
   "execution_count": null,
   "id": "a06454fd",
   "metadata": {
    "scrolled": true
   },
   "outputs": [],
   "source": [
    "df = pd.read_csv(r'./data/data_lem.csv', index_col=0)\n",
    "df.head()"
   ]
  },
  {
   "cell_type": "code",
   "execution_count": null,
   "id": "dfa88dce",
   "metadata": {},
   "outputs": [],
   "source": []
  },
  {
   "cell_type": "markdown",
   "id": "8a7bf6f2",
   "metadata": {},
   "source": [
    "## Задание №3\n",
    "Воспользоваться уже сформированным list_task. Воспользуйтесь библиотекой pymorphy2 и повторите задание №1 <br>\n",
    "Для слов которых нет в словаре создайте конструкцию из if-ов которые переведут слово в родительный падеж <br>\n",
    "Сохраните результаты в файл задание3.txt в формате:  <br> \n",
    "Купить килограмм - {слово в родительном падеже}"
   ]
  },
  {
   "cell_type": "code",
   "execution_count": null,
   "id": "d4dfdd62",
   "metadata": {},
   "outputs": [],
   "source": []
  }
 ],
 "metadata": {
  "kernelspec": {
   "display_name": "Python 3",
   "language": "python",
   "name": "python3"
  },
  "language_info": {
   "codemirror_mode": {
    "name": "ipython",
    "version": 3
   },
   "file_extension": ".py",
   "mimetype": "text/x-python",
   "name": "python",
   "nbconvert_exporter": "python",
   "pygments_lexer": "ipython3",
   "version": "3.8.8"
  }
 },
 "nbformat": 4,
 "nbformat_minor": 5
}
